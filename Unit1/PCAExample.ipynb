{
 "cells": [
  {
   "cell_type": "code",
   "execution_count": 1,
   "metadata": {},
   "outputs": [],
   "source": [
    "#Import all and create a data set\n",
    "\n",
    "import pandas as pd \n",
    "import numpy as np\n",
    "import random as rd\n",
    "from sklearn.decomposition import PCA\n",
    "from sklearn import preprocessing\n",
    "import matplotlib.pyplot as plt\n",
    "\n",
    "genes = ['gene'+ str(i) for i in range(1,101)]\n",
    "wt=['wt'+str(i) for i in range(1,6)]\n",
    "ko=['ko'+str(i) for i in range(1,6)]\n",
    "\n",
    "data = pd.DataFrame(columns=[*wt,*ko], index = genes)\n",
    "\n",
    "for gene in data.index:\n",
    "    data.loc[gene,'wt1':'wt5'] = np.random.poisson(lam=rd.randrange(10,1000), size=5)\n",
    "    data.loc[gene,'ko1':'ko5'] = np.random.poisson(lam=rd.randrange(10,1000), size=5)\n",
    "    \n",
    "\n",
    "#transposeddata=data.T    \n",
    "#print(data.head())\n",
    "#print(data.shape)\n",
    "#print(transposeddata)\n"
   ]
  },
  {
   "cell_type": "code",
   "execution_count": 2,
   "metadata": {},
   "outputs": [
    {
     "name": "stderr",
     "output_type": "stream",
     "text": [
      "C:\\ProgramData\\Anaconda3\\lib\\site-packages\\ipykernel_launcher.py:4: DataConversionWarning: Data with input dtype int64 were all converted to float64 by the scale function.\n",
      "  after removing the cwd from sys.path.\n"
     ]
    }
   ],
   "source": [
    "#Center means around 0\n",
    "#Scale the data so all std dev = 1.\n",
    "#Transpose so sample in rows rather than columns so we use .T to transpose\n",
    "scaled_data = preprocessing.scale(data.T)\n",
    "\n",
    "#This can be used for machine learning as well bu twe only need PCA()\n",
    "pca=PCA()\n",
    "\n",
    "#All PCA math in here, loading scores and variation each component accounts for\n",
    "pca.fit(scaled_data)\n",
    "\n",
    "#Generate Coords for the graph based on the loading scores and scaled data\n",
    "pca_data=pca.transform(scaled_data)"
   ]
  },
  {
   "cell_type": "code",
   "execution_count": 3,
   "metadata": {
    "scrolled": true
   },
   "outputs": [
    {
     "data": {
      "image/png": "[encoded data removed]",
      "text/plain": [
       "<Figure size 432x288 with 1 Axes>"
      ]
     },
     "metadata": {},
     "output_type": "display_data"
    }
   ],
   "source": [
    "#Scree plot\n",
    "\n",
    "#Calculate % that each comp accounts for\n",
    "per_var = np.round(pca.explained_variance_ratio_*100, decimals=1)\n",
    "\n",
    "#Create labels\n",
    "labels = ['PC' + str(x) for x in range(1, len(per_var)+1)]\n",
    "\n",
    "#Create matplotlib bar (scree) plot\n",
    "plt.bar(x=range(1,len(per_var)+1), height=per_var, tick_label=labels)\n",
    "plt.ylabel('Percentage of Explained Variance')\n",
    "plt.xlabel('Principal Component')\n",
    "plt.title('Scree Plot')\n",
    "plt.show()"
   ]
  },
  {
   "cell_type": "code",
   "execution_count": 7,
   "metadata": {
    "scrolled": true
   },
   "outputs": [
    {
     "name": "stdout",
     "output_type": "stream",
     "text": [
      "[[ 9.71914823e+00 -1.60222216e+00  1.47547061e-02  1.61357421e+00\n",
      "  -1.39925488e+00  3.51462262e-01  2.77574996e-01  6.17024175e-01\n",
      "  -7.79087423e-01  1.44328993e-15]\n",
      " [ 9.37270010e+00  1.22546103e+00  1.71542642e+00  9.55454298e-01\n",
      "   1.76619294e+00  4.14366605e-02 -6.24457849e-02 -7.66089264e-01\n",
      "  -4.68619214e-01  1.44328993e-15]\n",
      " [ 9.93967158e+00  2.77590843e-01 -1.41148971e+00  3.34818438e-01\n",
      "   1.26955275e+00 -8.75048020e-01 -3.68826561e-01  1.03480183e+00\n",
      "   6.18765947e-01  2.77555756e-15]\n",
      " [ 9.46843335e+00  2.42687895e+00 -8.47040240e-02 -1.62248592e+00\n",
      "  -9.58236999e-01  1.16089165e+00  7.17227271e-01  6.95611892e-02\n",
      "   2.82130085e-01  1.99840144e-15]\n",
      " [ 9.26904495e+00 -2.35585683e+00 -2.21569745e-01 -1.36002612e+00\n",
      "  -6.60542199e-01 -6.58589701e-01 -5.56799269e-01 -9.99376237e-01\n",
      "   3.24461468e-01  2.22044605e-16]\n",
      " [-9.50109980e+00 -3.65609420e-01  2.91910978e+00 -1.12247760e+00\n",
      "  -2.30685058e-01 -4.66664851e-01 -3.46818081e-01  7.97020751e-01\n",
      "   8.10591976e-02 -1.11022302e-15]\n",
      " [-9.59258089e+00  2.04714741e+00 -1.48878756e+00 -3.28519981e-01\n",
      "  -6.65402709e-01 -9.25010257e-01 -8.13275146e-01 -1.82274590e-01\n",
      "  -7.72239832e-01  1.55431223e-15]\n",
      " [-9.66460571e+00 -1.12025472e+00 -8.35642708e-01 -5.64020028e-03\n",
      "   8.43682145e-01  2.08263112e+00 -7.93167413e-01  1.43995210e-02\n",
      "   5.62826877e-02  3.33066907e-16]\n",
      " [-9.25917890e+00  6.56085434e-01  2.45902346e-01  2.24172884e+00\n",
      "  -9.34867798e-01 -2.18506983e-01  2.90293037e-01 -4.86713236e-01\n",
      "   9.15358412e-01 -3.88578059e-15]\n",
      " [-9.75153293e+00 -1.18922053e+00 -8.52999502e-01 -7.06425969e-01\n",
      "   9.69561814e-01 -4.92601873e-01  1.65623695e+00 -9.83541398e-02\n",
      "  -2.58111329e-01 -5.55111512e-16]]\n"
     ]
    }
   ],
   "source": [
    "print(pca_data)"
   ]
  },
  {
   "cell_type": "code",
   "execution_count": 8,
   "metadata": {},
   "outputs": [
    {
     "data": {
      "image/png": "[encoded data removed]",
      "text/plain": [
       "<Figure size 432x288 with 1 Axes>"
      ]
     },
     "metadata": {},
     "output_type": "display_data"
    }
   ],
   "source": [
    "\n",
    "pca_df = pd.DataFrame(pca_data, index = [*wt, *ko], columns=labels)\n",
    "plt.scatter(pca_df.PC1, pca_df.PC2)\n",
    "plt.title('My PCA Graph')\n",
    "plt.xlabel('PC1 - {0}%'.format(per_var[0]))\n",
    "plt.ylabel('PC2 - {0}%'.format(per_var[1]))\n",
    "\n",
    "#add sample names to the graph\n",
    "for sample in pca_df.index:\n",
    "    plt.annotate(sample,(pca_df.PC1.loc[sample],pca_df.PC2.loc[sample]))\n",
    "    plt.show"
   ]
  },
  {
   "cell_type": "code",
   "execution_count": null,
   "metadata": {},
   "outputs": [],
   "source": [
    "\n",
    "#Create pandas \"Series\" object with loading scores in PC1\n",
    "#The pca components are a zero index so we start with 0 for pc1\n",
    "loading_scores = pd.Series(pca.components_[0], index=genes)\n",
    "\n",
    "#Sort the loading scores based on thier magnitude(absolute value)\n",
    "sorted_loading_scores= loading_scores.abs().sort_values(ascending=False)\n",
    "\n",
    "#Here we are just getting the names of the top 10 indexes (which are the gene names)\n",
    "top_10_genes = sorted_loading_scores[0:10].index.values\n",
    "\n",
    "#print the top 10 gene names and thier corresponding loading scores\n",
    "print(loading_scores[top_10_genes])\n",
    "\n",
    "\n",
    "#This means that a lot of genes played a role in separating the samples (because they are all similar in loading scores)"
   ]
  },
  {
   "cell_type": "code",
   "execution_count": null,
   "metadata": {},
   "outputs": [],
   "source": [
    "\n",
    "#For scaling data\n",
    "from sklearn.preprocessing import StandardScaler\n",
    "\n",
    "%matplotlib inline\n",
    "\n",
    "url = \"https://archive.ics.uci.edu/ml/machine-learning-databases/iris/iris.data\"\n",
    "df = pd.read_csv(url, names=['sepal length','sepal width','petal length','petal width','target'])\n",
    "\n",
    "#Since PCA yields a feature subspace that maximizes the variance along the axes, it makes sense to standardize the data,\n",
    "#especially, if it was measured on different scales. Although, all features in the Iris dataset were measured in centimeters,\n",
    "#let us continue with the transformation of the data onto unit scale (mean=0 and variance=1), which is a requirement\n",
    "#for the optimal performance of many machine learning algorithms.\n",
    "\n",
    "features = ['sepal length', 'sepal width', 'petal length', 'petal width']\n",
    "x = df.loc[:, features].values\n",
    "y = df.loc[:,['target']].values\n",
    "x = StandardScaler().fit_transform(x)\n",
    "pd.DataFrame(data = x, columns = features).head()\n",
    "pca = PCA(n_components=2)\n",
    "principalComponents = pca.fit_transform(x)\n",
    "principalDf = pd.DataFrame(data = principalComponents\n",
    "             , columns = ['principal component 1', 'principal component 2'])\n",
    "finalDf = pd.concat([principalDf, df[['target']]], axis = 1)\n",
    "fig = plt.figure(figsize = (8,8))\n",
    "ax = fig.add_subplot(1,1,1) \n",
    "ax.set_xlabel('Principal Component 1', fontsize = 15)\n",
    "ax.set_ylabel('Principal Component 2', fontsize = 15)\n",
    "ax.set_title('2 Component PCA', fontsize = 20)\n",
    "targets = ['Iris-setosa', 'Iris-versicolor', 'Iris-virginica']\n",
    "colors = ['r', 'g', 'b']\n",
    "for target, color in zip(targets,colors):\n",
    "    indicesToKeep = finalDf['target'] == target\n",
    "    ax.scatter(finalDf.loc[indicesToKeep, 'principal component 1']\n",
    "               , finalDf.loc[indicesToKeep, 'principal component 2']\n",
    "               , c = color\n",
    "               , s = 50)\n",
    "ax.legend(targets)\n",
    "ax.grid()"
   ]
  },
  {
   "cell_type": "code",
   "execution_count": null,
   "metadata": {},
   "outputs": [],
   "source": []
  }
 ],
 "metadata": {
  "kernelspec": {
   "display_name": "Python 3",
   "language": "python",
   "name": "python3"
  },
  "language_info": {
   "codemirror_mode": {
    "name": "ipython",
    "version": 3
   },
   "file_extension": ".py",
   "mimetype": "text/x-python",
   "name": "python",
   "nbconvert_exporter": "python",
   "pygments_lexer": "ipython3",
   "version": "3.6.7"
  }
 },
 "nbformat": 4,
 "nbformat_minor": 2
}
