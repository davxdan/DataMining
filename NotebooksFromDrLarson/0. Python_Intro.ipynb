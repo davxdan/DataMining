{
 "cells": [
  {
   "cell_type": "markdown",
   "metadata": {
    "slideshow": {
     "slide_type": "slide"
    }
   },
   "source": [
    "# Python Introduction\n",
    "##### Created by Professor Eric Larson, contact at eclarson@smu.edu for errors or questions\n",
    "\n",
    "In this notebook, we will introduce the basics of programming in python as well as the installation of different modules and libraries. Debugging in python can be a pain, but there are many different ways of debugging depending on what you are most comfortable with. \n",
    "\n",
    "We will go over:\n",
    "+ Analysing and debugging errors \n",
    "+ Setting breakpoints with pdb \n",
    "+ Using an IDE with python that can look at memory, set breakpoints, etc.\n",
    "\n",
    "\n"
   ]
  },
  {
   "cell_type": "markdown",
   "metadata": {
    "slideshow": {
     "slide_type": "subslide"
    }
   },
   "source": [
    "![Guido Von Rossum](https://raw.githubusercontent.com/eclarson/DataMiningNotebooks/master/data/guido.png)\n",
    "\n",
    "Python was founded by a guy named Guido Von Rossum in 1989. I will let him explain his motivations.\n",
    "From wikipedia:\n",
    ">Over six years ago, in December 1989, I was looking for a \"hobby\" programming project that would keep me occupied during the week around Christmas. My office ... would be closed, but I had a home computer, and not much else on my hands. I decided to write an interpreter for the new scripting language I had been thinking about lately: a descendant of ABC that would appeal to Unix/C hackers. I chose Python as a working title for the project, being in a slightly irreverent mood (and a big fan of Monty Python's Flying Circus).\n",
    "\n",
    "        -Guido van Rossum in 1996\n",
    "\n",
    "So let that be a lesson! Python is not named after the snake, it is after Monty Python. However, even though the language is a bit quirky, do not let that fool you. It is absolutely made for people to use as a serious programming language and tool. Whether you have novice programming skills or are a sesoned veteran at OOP. \n",
    "\n",
    "For example, take a look at the most popular programming languages as identified by the number of projects in GitHub, and the number of related questions on stack overflow. Notice the other langauges next to python, like java, php, c++, ruby, and all the heavy hitters. Its also on every top ten list of programming languages needed to get a job in programming. Check it out. Graphic credit given to RedMonk.\n",
    "![Python](https://raw.githubusercontent.com/eclarson/DataMiningNotebooks/master/data/python_ranking.png)\n",
    "\n",
    "Moreover, python is one of the fastest growing languages used in scientific computing and data science. According to a recent survey, the three most helpful languages or packages for doing data science are R, SAS, and python. You will likely make use of all three for a given project or set of projects. See http://www.r-bloggers.com/data-science-toolbox-survey-results-surprise-r-and-python-win/ for a high level description of the survey.\n",
    "\n",
    "# Running Python\n",
    "Python can be run in various ways. We will cover how to run it from the interpreter prompt, command line scripts, and from iPython notebook."
   ]
  },
  {
   "cell_type": "code",
   "execution_count": 1,
   "metadata": {},
   "outputs": [],
   "source": [
    "# this is a comment\n",
    "\n",
    "# place this at the top of python file to enable running as >>./filename.py\n",
    "#! /usr/bin/python\n",
    "\n",
    "# otherwise you can run with >>python filename.py {or} >>python27 filename.py\n",
    "\n",
    "# those commands can be run from a terminal window"
   ]
  },
  {
   "cell_type": "code",
   "execution_count": 2,
   "metadata": {},
   "outputs": [
    {
     "name": "stdout",
     "output_type": "stream",
     "text": [
      "hello world\n"
     ]
    }
   ],
   "source": [
    "# hello world from iPython Notebook\n",
    "print(\"hello world\")"
   ]
  },
  {
   "cell_type": "markdown",
   "metadata": {},
   "source": [
    "# Syntax\n",
    "Okay, so lets first dive into some of the syntax in python programming."
   ]
  },
  {
   "cell_type": "code",
   "execution_count": 3,
   "metadata": {},
   "outputs": [
    {
     "name": "stdout",
     "output_type": "stream",
     "text": [
      "Variable type examples:\n",
      "<class 'int'>\n",
      "<class 'int'>\n",
      "<class 'float'>\n",
      "<class 'bool'>\n",
      "True\n",
      "False\n"
     ]
    }
   ],
   "source": [
    "# ============================================\n",
    "# Variables Example\n",
    "int_val = 8\n",
    "long_val = 23423423235 # this will now be an int\n",
    "float_val = 2.546923764237654239\n",
    "bool_val = False\n",
    "\n",
    "print (\"Variable type examples:\")\n",
    "print (type(int_val))\n",
    "print (type(long_val)) # longs are ints bit in python 3\n",
    "print (type(float_val))\n",
    "print (type(bool_val))\n",
    "\n",
    "# testing for the type of a variable\n",
    "temp = isinstance(float_val,float)\n",
    "print (temp)\n",
    "print (isinstance(float_val,int))"
   ]
  },
  {
   "cell_type": "code",
   "execution_count": 4,
   "metadata": {},
   "outputs": [
    {
     "name": "stdout",
     "output_type": "stream",
     "text": [
      "\n",
      "Arithmetic examples:\n",
      "2.6666666666666665\n",
      "2.6666666666666665\n",
      "2.6666666666666665\n",
      "2\n",
      "False\n",
      "False\n",
      "True\n",
      "8.0\n",
      "5\n",
      "81\n"
     ]
    }
   ],
   "source": [
    "#============================================\n",
    "# Arithmetic and casting\n",
    "print (\"\\nArithmetic examples:\")\n",
    "print (8 / 3)\n",
    "print (float(8) / 3)\n",
    "print (float(8) / float(3))\n",
    "print (8//3) # must explicitly ask for truncation\n",
    "\n",
    "print (True and False)  # logicals\n",
    "print (8 == 3 )  # logical equallty\n",
    "print (5 <= 6 )  # logical comparison\n",
    "\n",
    "print (2.0*4.0)  # multiplication\n",
    "print (65%6   ) # remainder, modulus\n",
    "print (3**4   ) # 3 to the fourth power"
   ]
  },
  {
   "cell_type": "code",
   "execution_count": 5,
   "metadata": {},
   "outputs": [
    {
     "name": "stdout",
     "output_type": "stream",
     "text": [
      "\n",
      "String example:\n",
      "A string is double or single quotes\n",
      "Three quote means that the string goes over\n",
      "multiple lines\n",
      "This also spans multiple lines but has no newline\n"
     ]
    }
   ],
   "source": [
    "#============================================\n",
    "# strings example\n",
    "print (\"\\nString example:\")\n",
    "str_val = \"A string is double or single quotes\"\n",
    "str_val_long = '''Three quote means that the string goes over\n",
    "multiple lines'''\n",
    "str_val_no_newline = '''This also spans multiple lines \\\n",
    "but has no newline'''\n",
    "\n",
    "print (str_val)\n",
    "print (str_val_long)\n",
    "print (str_val_no_newline)"
   ]
  },
  {
   "cell_type": "code",
   "execution_count": 6,
   "metadata": {},
   "outputs": [
    {
     "name": "stdout",
     "output_type": "stream",
     "text": [
      "A\n",
      "tr\n",
      "s\n",
      "uotes\n",
      "A string is double or single quotes\n"
     ]
    },
    {
     "ename": "TypeError",
     "evalue": "'str' object does not support item assignment",
     "output_type": "error",
     "traceback": [
      "\u001b[1;31m---------------------------------------------------------------------------\u001b[0m",
      "\u001b[1;31mTypeError\u001b[0m                                 Traceback (most recent call last)",
      "\u001b[1;32m<ipython-input-6-94996f1cd364>\u001b[0m in \u001b[0;36m<module>\u001b[1;34m()\u001b[0m\n\u001b[0;32m      7\u001b[0m \u001b[0mprint\u001b[0m \u001b[1;33m(\u001b[0m\u001b[0mstr_val\u001b[0m\u001b[1;33m[\u001b[0m\u001b[1;36m0\u001b[0m\u001b[1;33m:\u001b[0m\u001b[1;36m5\u001b[0m\u001b[1;33m]\u001b[0m \u001b[1;33m+\u001b[0m \u001b[0mstr_val\u001b[0m\u001b[1;33m[\u001b[0m\u001b[1;36m5\u001b[0m\u001b[1;33m:\u001b[0m\u001b[1;33m]\u001b[0m\u001b[1;33m)\u001b[0m \u001b[1;31m# print the first five elements, then from the fifth and on\u001b[0m\u001b[1;33m\u001b[0m\u001b[0m\n\u001b[0;32m      8\u001b[0m \u001b[1;33m\u001b[0m\u001b[0m\n\u001b[1;32m----> 9\u001b[1;33m \u001b[0mstr_val\u001b[0m\u001b[1;33m[\u001b[0m\u001b[1;36m5\u001b[0m\u001b[1;33m]\u001b[0m \u001b[1;33m=\u001b[0m \u001b[1;34m'G'\u001b[0m \u001b[1;31m# this is an error, strings are immutable once they are set\u001b[0m\u001b[1;33m\u001b[0m\u001b[0m\n\u001b[0m",
      "\u001b[1;31mTypeError\u001b[0m: 'str' object does not support item assignment"
     ]
    }
   ],
   "source": [
    "# string can be accessed in a variety of different ways\n",
    "\n",
    "print (str_val[0]  ) # initial element \"0th\" element\n",
    "print (str_val[3:5]) # elements 3 and 4, but not 5\n",
    "print (str_val[-1] ) # the last element in the string\n",
    "print (str_val[-5:]) # the last five elements\n",
    "print (str_val[0:5] + str_val[5:]) # print the first five elements, then from the fifth and on\n",
    "\n",
    "str_val[5] = 'G' # this is an error, strings are immutable once they are set"
   ]
  },
  {
   "cell_type": "code",
   "execution_count": null,
   "metadata": {},
   "outputs": [],
   "source": [
    "# some common operations for strings\n",
    "print (str_val*2        ) # mutliply is like adding the number of times, here it repeats the string twice\n",
    "print ('Python' > 'Java') # compare the strings alphabetically \n",
    "\n",
    "print (\"eric\".capitalize()  )# the dot operator works like it does in most other OOP languages\n",
    "print (str_val.lower())\n",
    "print (str_val.upper())\n",
    "print (\"this, is, separated, by, commas\".split(',')) # this results is returned as a list, which we need to talk about!"
   ]
  },
  {
   "cell_type": "markdown",
   "metadata": {},
   "source": [
    "# Tuples, Lists, Sets, and Dictionaries "
   ]
  },
  {
   "cell_type": "code",
   "execution_count": null,
   "metadata": {},
   "outputs": [],
   "source": [
    "# A List is one of the most powerful tools in python from which\n",
    "# most abstract types get created and implemented\n",
    "\n",
    "# a list is very much like the mutable version of a tuple\n",
    "# it can hold any type of information\n",
    "a_list = [45, 67, \"not a number\"]\n",
    "\n",
    "# we can add to a list through the append function\n",
    "a_list.append(\"A string, appended as a new element in the list\")\n",
    "\n",
    "print (a_list)\n",
    "\n",
    "# Lists can have other lists in them\n",
    "tmp_list = [\"a list\", \"within another list\", 442]\n",
    "a_list.append(tmp_list)\n",
    "\n",
    "print (a_list)\n",
    "\n",
    "# all of the indexing we learned from before still works with lists\n",
    "print (a_list[-1])\n",
    "print (a_list[-2:])\n"
   ]
  },
  {
   "cell_type": "code",
   "execution_count": null,
   "metadata": {},
   "outputs": [],
   "source": [
    "# tuples are immutable lists and are designated by commas\n",
    "# you can store ANYTHING in side a tuple, its basically a complex object container\n",
    "a_tuple = 45, 67, \"not a number\" \n",
    "print (a_tuple)\n",
    "\n",
    "# you can access a tuple with square brackets\n",
    "print (a_tuple[2])\n",
    "\n",
    "# but you cannot change a tuple, its immutable!!\n",
    "a_tuple[2] = 'hey' # this will give you an error!!"
   ]
  },
  {
   "cell_type": "code",
   "execution_count": null,
   "metadata": {},
   "outputs": [],
   "source": [
    "# Sets, taken from the Python sets tutorial\n",
    "# https://docs.python.org/2/tutorial/datastructures.html#sets\n",
    "basket = ['apple', 'orange', 'apple', 'pear', 'orange', 'banana']\n",
    "fruit = set(basket) # create a set without duplicates\n",
    "print (fruit)\n",
    "print ('orange' in fruit   ) # fast membership testing\n",
    "print ('crabgrass' in fruit)\n",
    "\n",
    "# Demonstrate set operations on unique letters from two words\n",
    "a = set('abracadabra')\n",
    "b = set('alacazam')\n",
    "a.add('!') # also add the some punctuation\n",
    "\n",
    "# set operations\n",
    "print (a    )   # unique letters in a\n",
    "print (a - b)   # letters in a but not in b\n",
    "print (a | b)   # letters in either a or b\n",
    "print (a & b)   # letters in both a and b\n",
    "print (a ^ b)   # letters in a or b but not both\n",
    "\n",
    "a_immutable = frozenset(a)\n",
    "a_immutable.add('e')   # the set is immutable, so we cannot add to it, this will give an error!"
   ]
  },
  {
   "cell_type": "code",
   "execution_count": null,
   "metadata": {},
   "outputs": [],
   "source": [
    "# Dictionaries map keys to values.\n",
    "\n",
    "# Here we setup a key as a string and the value as a number\n",
    "num_legs = { 'dog': 4, 'cat': 4, 'human': 2 }\n",
    "\n",
    "# You access Subscripts via the \"key\"\n",
    "print (num_legs)\n",
    "print (num_legs['dog'])\n",
    "print (num_legs['human'])\n",
    "\n",
    "print ('===============')\n",
    "# Entries can be added, updated, or deleted.\n",
    "# Again, these are just containers for any memory type\n",
    "num_legs['human'] = 'two'\n",
    "num_legs['bird'] = 'two and some wings'\n",
    "num_legs[45] = 'a key that is not a string' # notice that the key does not need to be a string\n",
    "# the key just needs to be some immutable memory\n",
    "\n",
    "del num_legs['cat']\n",
    "print (num_legs)"
   ]
  },
  {
   "cell_type": "markdown",
   "metadata": {},
   "source": [
    "# ADTs, Loops, and Conditionals"
   ]
  },
  {
   "cell_type": "code",
   "execution_count": 7,
   "metadata": {},
   "outputs": [
    {
     "name": "stdout",
     "output_type": "stream",
     "text": [
      "\n",
      "for loop output:\n",
      "DataMining <class 'str'>\n",
      "This statement is in the loop\n",
      "8 <class 'int'>\n",
      "This statement is in the loop\n",
      "23423423235 <class 'int'>\n",
      "This statement is in the loop\n",
      "2.546923764237654 <class 'float'>\n",
      "This statement is in the loop\n",
      "False <class 'bool'>\n",
      "This statement is in the loop\n",
      "This statement is outside the loop\n"
     ]
    }
   ],
   "source": [
    "\n",
    "#============================================\n",
    "# for loop example with list\n",
    "print (\"\\nfor loop output:\")\n",
    "\n",
    "list_example = [int_val, long_val, float_val, bool_val]\n",
    "list_example.insert(0, \"DataMining\")\n",
    "\n",
    "# notice that the loop ends with a colon and \n",
    "# is designated by the tab alignment\n",
    "for val in list_example:\n",
    "    print (str(val) + ' ' + str(type(val)))\n",
    "    print (\"This statement is in the loop\")\n",
    "    \n",
    "print (\"This statement is outside the loop\")\n",
    "    "
   ]
  },
  {
   "cell_type": "code",
   "execution_count": 8,
   "metadata": {},
   "outputs": [
    {
     "name": "stdout",
     "output_type": "stream",
     "text": [
      "=================\n",
      "0\n",
      "1\n",
      "3\n",
      "6\n",
      "B. exiting for loop without break\n"
     ]
    }
   ],
   "source": [
    "import random\n",
    "print ('=================')\n",
    "val = 0\n",
    "for i in range(0, random.randint(1, 10) ):\n",
    "    val += i\n",
    "    print (val)\n",
    "    if val>20:\n",
    "        print (' A. leaving the loop on break')\n",
    "        break # break out of loop\n",
    "else: # this else belongs to the for loop\n",
    "    print ('B. exiting for loop without break')"
   ]
  },
  {
   "cell_type": "code",
   "execution_count": 9,
   "metadata": {},
   "outputs": [
    {
     "name": "stdout",
     "output_type": "stream",
     "text": [
      "DataMining \t is at index \t 0\n",
      "8 \t is at index \t 1\n",
      "23423423235 \t is at index \t 2\n",
      "2.546923764237654 \t is at index \t 3\n",
      "False \t is at index \t 4\n"
     ]
    }
   ],
   "source": [
    "# more for loop examples\n",
    "\n",
    "# you can also get the index using the enumerate example\n",
    "for index, val in enumerate(list_example):\n",
    "    print (str(val), '\\t is at index \\t', index)\n"
   ]
  },
  {
   "cell_type": "code",
   "execution_count": null,
   "metadata": {},
   "outputs": [],
   "source": [
    "print ('===============')\n",
    "# this is a classic example for zipping, provided by the official python tutorial\n",
    "# notice the references to Monty Python\n",
    "\n",
    "# say you have two lists of equal size, that you would like to \n",
    "# loop through without indexing, you can use the \"zip\" function\n",
    "questions = ['name', 'quest', 'favorite color']\n",
    "answers = ['lancelot', 'the holy grail', 'blue']\n",
    "for q, a in zip(questions, answers):\n",
    "    print ('What is your %s?  It is %s.' % (q, a))"
   ]
  },
  {
   "cell_type": "code",
   "execution_count": null,
   "metadata": {},
   "outputs": [],
   "source": [
    "# Looping through dictionaries\n",
    "print ('===============')\n",
    "# Get all the keys.\n",
    "print (num_legs.keys())\n",
    "for k in num_legs.keys():\n",
    "    print (k, \"=>\", num_legs[k])\n",
    "\n",
    "print ('===============')\n",
    "# you can also use the iter_items function\n",
    "for k, v in num_legs.items():\n",
    "    print (k, \"=>\", v)\n",
    "\n",
    "print ('===============')\n",
    "# Test for presence of a key.\n",
    "for t in [ 'human', 'beast', 'cat', 'dog', 45 ]:\n",
    "    print (t,end=' ')\n",
    "    if t in num_legs:\n",
    "        print ('=>', num_legs[t])\n",
    "    else:\n",
    "        print ('is not present.')"
   ]
  },
  {
   "cell_type": "code",
   "execution_count": null,
   "metadata": {},
   "outputs": [],
   "source": [
    "# list comprehensions and dictionary comprehensions\n",
    "\n",
    "# comprehensions are like shorthand for loops where each\n",
    "# pass through the loop saves the result in a list or dictionary\n",
    "\n",
    "# for example, imagine we want to take every element in a range to the fourth power\n",
    "times_four = [x**4 for x in range(10)]\n",
    "print (times_four)\n",
    "# this save the fourth power of the numbers 0 through 9\n",
    "# the result of each pass through the loop saves a value\n",
    "# in other languages this is also known as \"lambda functions\"\n",
    "\n",
    "# you can also call functions inside a comprehension, and take \n",
    "# advantage of the data type. For example, if each element is a string\n",
    "# we can use the string member methods\n",
    "questions = ['name', 'quest', 'favorite color']\n",
    "quest_upper = [x.upper() for x in questions]\n",
    "print (quest_upper)\n",
    "\n",
    "# you can also do comprehensions with dictionaries\n",
    "times_four = {x:x**4 for x in range(10)}\n",
    "# notice that the comprehension is wrapped in curly braces and the key for the value \n",
    "# is given inside the code itself, followed by a colon\n",
    "print (times_four)\n",
    "\n",
    "# you can also nest comprehensions inside each other, but this is not always good coding practice\n",
    "# especially if it makes the code less readable\n",
    "\n",
    "# Finally, all of the enumerate, zipping, and slicing we performed also applies to \n",
    "# list comprehensions\n",
    "x_array = [10, 20, 30]\n",
    "y_array = [7, 5, 3]\n",
    "# this prints the sum of the multiplication of the arrays\n",
    "print (sum(x*y for x,y in zip(x_array, y_array)) ) \n"
   ]
  },
  {
   "cell_type": "code",
   "execution_count": null,
   "metadata": {},
   "outputs": [],
   "source": [
    "#============================================\n",
    "# array as a stack\n",
    "print (\"\\nStack Example:\")\n",
    "list_example = []\n",
    "list_example.append('LIFO')\n",
    "\n",
    "for i in range(0, 5):\n",
    "    list_example.append(i)\n",
    "\n",
    "print (list_example)\n",
    "print (\"=============\")\n",
    "val = list_example.pop()\n",
    "print (val)\n",
    "print (\"=============\")\n",
    "print (list_example)\n",
    "print (\"=============\")"
   ]
  },
  {
   "cell_type": "code",
   "execution_count": null,
   "metadata": {},
   "outputs": [],
   "source": [
    "#============================================\n",
    "# array as a queue\n",
    "print (\"\\nQueue Example:\")\n",
    "from collections import deque # this is an import, we will get back to that later\n",
    "# essentially this is a set of utility functions shipped with python\n",
    "\n",
    "q_example = deque()\n",
    "q_example.appendleft(\"FIFO\")\n",
    "for i in range(5, 10):\n",
    "    q_example.appendleft(i)\n",
    "\n",
    "print (q_example)\n",
    "print (\"=============\")\n",
    "val = q_example.pop()\n",
    "print (val)\n",
    "print (\"=============\")\n",
    "print (q_example)\n",
    "print (\"=============\")\n",
    "\n",
    "# pop and print each element\n",
    "while len(q_example) > 0:\n",
    "    print (q_example.pop())"
   ]
  },
  {
   "cell_type": "code",
   "execution_count": null,
   "metadata": {},
   "outputs": [],
   "source": [
    "#============================================\n",
    "# conditional example\n",
    "print (\"\\nConditional Example:\")\n",
    "\n",
    "a, b = True, False  # double assignment\n",
    "\n",
    "if a:\n",
    "    print (\"a is true\")\n",
    "elif a or b:\n",
    "    print (\"b is true\")\n",
    "else:\n",
    "    print (\"neither a or b are true\")\n",
    "\n",
    "# conditional assignment\n",
    "val = \"b is true\" if b else \"b is false\"\n",
    "print (val)"
   ]
  },
  {
   "cell_type": "code",
   "execution_count": null,
   "metadata": {},
   "outputs": [],
   "source": [
    "# more on conditionals, \"is\" versus ==\n",
    "\n",
    "# I. the traditional == works as expected\n",
    "a=5\n",
    "b=5\n",
    "if a==b:\n",
    "    print (\"I. Everybody is a five!\")\n",
    "else:\n",
    "    print (\"I. Wish we had fives…\" )\n",
    "    \n",
    "# II. the \"is\" function is for object comparison, much like comparing pointers\n",
    "a=327676\n",
    "b=a\n",
    "if a is b:\n",
    "    print (\"II. These are the same object!\")\n",
    "else:\n",
    "    print (\"II. Wish we had the same objects...\" )\n",
    "    \n",
    "# III. while these have the same value, they are not the same memory\n",
    "a=327676\n",
    "b=327675+1\n",
    "if a is b:\n",
    "    print (\"III. These are the same object!\")\n",
    "else:\n",
    "    print (\"III. Wish we had the same objects...\" )\n",
    "\n",
    "# IV. you would expect this to say wish we had fives,\n",
    "# but small integers like this are cached so right now they do point to the same memory\n",
    "a=5\n",
    "b=4+1\n",
    "if a is b:\n",
    "    print (\"IV. Everybody is a five!\")\n",
    "else:\n",
    "    print (\"IV. Wish we had fives...\" )\n",
    "    \n",
    "# V. but if we change the memory, that caching gets released\n",
    "b = b*2.0\n",
    "b = b/2.0\n",
    "if a is b:\n",
    "    print (\"V. Everybody is a five!\")\n",
    "else:\n",
    "    print (\"V. Wish we had fives...\")\n",
    "    \n",
    "# you can also perform nested conditionals, like bounding\n",
    "if 5 < 8 < 6: # not true because 8 is not less than 6\n",
    "    print ('VI. How did we get here')\n",
    "elif 4 < 18 < 22:\n",
    "    print (\"VI. Got through nested conditional\")"
   ]
  },
  {
   "cell_type": "markdown",
   "metadata": {},
   "source": [
    "# Pythonic\n",
    "Now that we have gone through a consierable number of examples and data types, we need to talk about what it means to write code in python that is \"pythonic\". In a nutshell, there are many ways to implement something in python. The \"best\" method is one that is readable, simple, and brief. \n",
    "\n",
    "There many different coding “styles”\n",
    "+ “best” styles get the distinction of “pythonic”\n",
    "    + ill formed definition\n",
    "    + changes as the language matures\n",
    "+ pythonic code is:\n",
    "    + simple and readable\n",
    "    + uses dynamic typing when possible\n",
    "    + uses underscores to separate names\n",
    "    + names of variables are distinctive\n",
    "+ …or to quote Tim Peters…, run the next cell\n"
   ]
  },
  {
   "cell_type": "code",
   "execution_count": null,
   "metadata": {},
   "outputs": [],
   "source": [
    "import this # the zen of python"
   ]
  },
  {
   "cell_type": "markdown",
   "metadata": {},
   "source": [
    "## Pop Quiz!!!\n",
    "Which of these is more pythonic: You want to add the numbers between zero and N. \n"
   ]
  },
  {
   "cell_type": "code",
   "execution_count": null,
   "metadata": {},
   "outputs": [],
   "source": [
    "N = 128\n",
    "\n",
    "sum_value = 0\n",
    "for i in range(N):\n",
    "    sum_value += i\n",
    "print (sum_value)\n",
    "\n",
    "# OR\n",
    "print (sum(range(N)))\n",
    "\n",
    "# OR\n",
    "print (N*(N-1)/2 )"
   ]
  },
  {
   "cell_type": "markdown",
   "metadata": {},
   "source": [
    "# Functions and Classes"
   ]
  },
  {
   "cell_type": "code",
   "execution_count": null,
   "metadata": {},
   "outputs": [],
   "source": [
    "#============================================\n",
    "print (\"\\nFunction Example:\")\n",
    "\n",
    "# create and call a function\n",
    "# the function can be defined almost anywhere in file, as long as it is defined before it gets used\n",
    "def make_strings_lowercase(str_input):\n",
    "    assert isinstance(str_input, str)  # test the type of input\n",
    "    return str_input.lower()\n",
    "\n",
    "# now we are back on the main execution\n",
    "print (make_strings_lowercase(\"UPPER CASE\"))\n",
    "print (make_strings_lowercase(\"Data Mining\"))\n"
   ]
  },
  {
   "cell_type": "code",
   "execution_count": null,
   "metadata": {},
   "outputs": [],
   "source": [
    "# more functions examples\n",
    "def show_data(data):\n",
    "    # print the data\n",
    "    print (data)\n",
    "\n",
    "some_data = [1,2,3,4,5]\n",
    "show_data(some_data)\n",
    "\n",
    "# you can also define default values for the functions\n",
    "print ('====================')\n",
    "def show_data(data,x=None,y=None):\n",
    "    # print the data\n",
    "    print (data)\n",
    "    if x is not None:\n",
    "        print (x)\n",
    "    if y is not None:\n",
    "        print (y)\n",
    "\n",
    "some_data = [1,2,3,4,5]\n",
    "show_data(some_data);\n",
    "show_data(some_data,x='a cool X value')\n",
    "show_data(some_data,y='a cool Y value',x='a cool X value') \n",
    "\n",
    "# as well as have multiple return types in the function\n",
    "print ('====================')\n",
    "def get_square_and_tenth_power(x):\n",
    "    return x**2,x**10\n",
    "\n",
    "print (get_square_and_tenth_power(2) )\n"
   ]
  },
  {
   "cell_type": "code",
   "execution_count": null,
   "metadata": {},
   "outputs": [],
   "source": [
    "# This is a class that inherits from a generic object\n",
    "class BodyPart(object):\n",
    "    kind = \"This is a long string meant to be so long that the memory for it is not cached by python\"\n",
    "    # this is a class variable, shared across all instances\n",
    "    def __init__(self,name):\n",
    "        self.name = name # the name attribute is unique to each instance of the BodyPart class\n",
    "\n",
    "# now define a class that sub classes from the defined BodyPart CLass\n",
    "class Heart(BodyPart):\n",
    "    def __init__(self,rate=60,units=\"minute\"):\n",
    "        self.rate = rate\n",
    "        self.units= units\n",
    "        super(Heart,self).__init__(\"Heart\")\n",
    "\n",
    "    def __str__(self):\n",
    "        return \"name: \" + str(self.name) + \" has \" + str(self.rate) + \" beats per \" + self.units\n",
    "        \n",
    "\n",
    "my_heart = Heart(1,\"second\")\n",
    "print(my_heart)\n",
    "\n",
    "generic_part = BodyPart(\"Foot\")\n",
    "print (my_heart.kind)\n",
    "print (my_heart.kind is generic_part.kind) # true, these are the same memory location\n",
    "\n",
    "# take the following for example, these are not the same object\n",
    "a = \"This is a long string meant to be so long that the memory for it is not cached by python\"\n",
    "b = \"This is a long string meant to be so long that the memory for it is not cached by python\"\n",
    "print (a is b) # not the same memory location"
   ]
  },
  {
   "cell_type": "code",
   "execution_count": null,
   "metadata": {},
   "outputs": [],
   "source": [
    "# error handling and exceptions\n",
    "# Python exception handling.\n",
    "\n",
    "# example reissued from: http://sandbox.mc.edu/~bennet/python/code/exc_py.html\n",
    "\n",
    "# Choose two random integers.\n",
    "import random\n",
    "i = random.randrange(0, 8)\n",
    "j = random.randrange(-1, 6)\n",
    "print( i, j)\n",
    "\n",
    "# Get a nice little array, then try a bunch of dangerous stuff.\n",
    "some = [3, 10, 0, 8, 18];\n",
    "try:\n",
    "    # We try to execute this block.\n",
    "    den = some[j] / i\n",
    "    print (\"A:\", den)\n",
    "    frac = (i + j) / den\n",
    "    print (\"B:\", frac)\n",
    "    if frac < 2:\n",
    "        k = 3\n",
    "    else:\n",
    "        k = 'mike'\n",
    "    print (\"C:\", k)\n",
    "    print (\"D:\", some[k])\n",
    "# This is the catch block.\n",
    "except ZeroDivisionError:\n",
    "    print (\"\\nDivision by zero.\")\n",
    "except TypeError as inst:\n",
    "    # The detail provides extra information about the exception.\n",
    "    print (\"\\nSome type mismatch:\", inst)\n",
    "except IndexError as inst:\n",
    "    print (\"\\nSome value is out of range:\", inst)\n",
    "except:\n",
    "    # Except without an exception name catches any exception.\n",
    "    print (\"\\nSomething else went wrong.\")\n",
    "\n",
    "# An else attached to an except block is run if no exception occurrs.\n",
    "else:\n",
    "    print (\"\\nThat's odd, nothing went wrong.\")"
   ]
  },
  {
   "cell_type": "code",
   "execution_count": null,
   "metadata": {},
   "outputs": [],
   "source": [
    "# the with command and opening a file\n",
    "\n",
    "# the regular way of opening a file, lots of error checking\n",
    "try:\n",
    "    file = None\n",
    "    file = open(\"some_file.txt\")\n",
    "    data = file.read()\n",
    "except IOError as inst:\n",
    "    print (\"\\nCould not read file:\", inst)\n",
    "else:\n",
    "    print (\"Read successfully, file contents:\")\n",
    "    print (data)\n",
    "finally:\n",
    "    # this always gets called, close the file if its open\n",
    "    if file!= None and not file.closed:\n",
    "        file.close()\n",
    "\n"
   ]
  },
  {
   "cell_type": "code",
   "execution_count": null,
   "metadata": {},
   "outputs": [],
   "source": [
    "# the \"file\" class actually has a built in __init__ and __exit__\n",
    "# so we can really on their class implemntation to close the file propoerly\n",
    "# and handle any exceptions gracefully\n",
    "\n",
    "# in that respect, the \"with\" statement is a protocol that the \"file class\" adopts\n",
    "\n",
    "with open(\"some_file.txt\") as file:\n",
    "    data = file.read()\n",
    "    print (\"Read successfully, file contents:\")\n",
    "    print (data)\n",
    "\n",
    "# is the file closed? Let's check\n",
    "print (file.closed)"
   ]
  },
  {
   "cell_type": "code",
   "execution_count": null,
   "metadata": {},
   "outputs": [],
   "source": [
    "# you can also define your own classes that adopt the \"with\" protocol,\n",
    "# if you are interested check out the example \n",
    "class BodyPart(object):\n",
    "    def __init__(self,name):\n",
    "        self.name = name\n",
    "        print ('1. Just initialized body part with name', name)\n",
    "        \n",
    "    def __enter__(self):\n",
    "        print ('2. Building up from \"with\" command' )\n",
    "        return self\n",
    "        \n",
    "    def __exit__(self, type, value, traceback):\n",
    "        if value is not None:\n",
    "            print ('4. An error occurred,', value)\n",
    "        else:\n",
    "            print ('4. Exit was called, no errors')\n",
    "            \n",
    "    def __str__(self):\n",
    "        # 5/0 # uncomment to raise an error\n",
    "        return '3. Hi, my name is: '+ self.name\n",
    "\n",
    "with BodyPart(\"Lungs\") as bp:\n",
    "    print(bp)"
   ]
  },
  {
   "cell_type": "markdown",
   "metadata": {},
   "source": [
    "# Importing Libraries\n",
    "Python shipd with many libraries already packaged. You simply import them using the \"import\" command. However, you can also install many third party libraries, of which there are many for data wrangling. In the next examples we will use some built in libraries, as well as ones that are third party.\n",
    "\n",
    "FOr installing the third party libraries, you will need to install a package mananger. There are three main ones that you may want to use on your system:\n",
    "+ Pip, https://pypi.python.org/pypi/pip\n",
    "+ Homebrew, http://brew.sh\n",
    "+ Macports, https://www.macports.org\n",
    "    \n",
    "I have had the best luck using pip (even on mac, after installing brew). But you will need to explore the options and decide which one is right for your system. If you are using windows, pip is the way to go. If you do not want the setup to affect other libraries installed on your system, consider setting up a virtual environment. http://docs.python-guide.org/en/latest/dev/virtualenvs/\n",
    "\n",
    "Now go our and install the Numpy and Matplotlib systems on your system! It might be as simple as:\n",
    "     > pip install numpy\n",
    "     > pip install matplotlib"
   ]
  },
  {
   "cell_type": "code",
   "execution_count": null,
   "metadata": {},
   "outputs": [],
   "source": [
    "# with the package installed, we can import the libraries and use them.\n",
    "\n",
    "# The numpy package is great for working with groups of numbers as matrices\n",
    "# and has many functionalities that are comparable to Matlab and Octave\n",
    "import numpy as np\n",
    "t = np.linspace(0, 1, 100)  # 100 equally spaced array of numbers from 0.0 to 1\n",
    "y = np.sin(2 * np.pi * t)  # take sine of the value\n",
    "\n",
    "print (np.max(y))\n",
    "print (np.median(y))\n"
   ]
  },
  {
   "cell_type": "code",
   "execution_count": null,
   "metadata": {},
   "outputs": [],
   "source": [
    "# Matplotlib has a number of plotting tools that are extremely powerful for\n",
    "# exploring data. The plotting functionality is simliar to R, but many times\n",
    "# it is easier of more customizable. \n",
    "# Note: everthying you know in \"R\" will come back full circle. Python and R play very \n",
    "#   nicely with one another and python can call R code, share memory with it, and use its plotting functions\n",
    "#   ...with the correct libraries installed! Check out Rpy2, http://rpy.sourceforge.net \n",
    "\n",
    "%matplotlib inline\n",
    "\n",
    "#============================================\n",
    "# plotting example\n",
    "from matplotlib import pyplot as plt\n",
    "\n",
    "plt.plot(t, y)  # plot them\n",
    "plt.show()"
   ]
  },
  {
   "cell_type": "code",
   "execution_count": null,
   "metadata": {},
   "outputs": [],
   "source": [
    "# this library ships with python and is for accessing SQL\n",
    "# You will learn how to use the module more extensively in the future!\n",
    "# here, we will just import it and get its version\n",
    "import sqlite3\n",
    "\n",
    "print (sqlite3.version)"
   ]
  },
  {
   "cell_type": "markdown",
   "metadata": {},
   "source": [
    "# Debugging\n",
    "\n",
    "Debugging in python is much like any other programming language. If you use the command line to run programs, you need to be able to catch and interpret runtime errors. There is no compilation process (that we have talked about), so all errors will occur at runtime--that includes things like spelling errors. Because of this, it is critical to run your code in varying contexts. That also means exploring ways that it could fail by changing the values of different variables.\n",
    "\n",
    "One easy way to do this is by the using the pdb package. You can run it from the iPython notebook, but it gets quite long on the output trace. You will likely want to copy this test over to another document (for example, debugging.py) and run it from the command line (for example, >python debugging.py). The pdb library allows you to set break points in the files and also step through the program, changing the variable values. \n",
    "\n",
    "+ import pdb\n",
    "    + pdb.set_trace()\n",
    "+ command line arguments\n",
    "    + s(tep), c(ontinue), n(ext), w(here), l(ist), r(eturn), j(ump)\n",
    "+ and much more… like print, p, pp\n",
    "+ can set numbered break points by running from python window\n",
    "    + python -m pdb your_function.py "
   ]
  },
  {
   "cell_type": "code",
   "execution_count": null,
   "metadata": {},
   "outputs": [],
   "source": [
    "import pdb\n",
    "\n",
    "j = 0\n",
    "for i in range(0,5):\n",
    "    j += 5*i\n",
    "    pdb.set_trace()\n",
    "    \n",
    "print (j)"
   ]
  },
  {
   "cell_type": "markdown",
   "metadata": {},
   "source": [
    "There is still plenty more to learn about python, but now you have the basics. One topic that may be intersting to you is the concept of decorators, discussed here:\n",
    "    http://simeonfranklin.com/blog/2012/jul/1/python-decorators-in-12-steps/\n",
    "    \n",
    "Essentially, decorators are ways of manipulating functions with other functions. Mostly, this means recycling the functionality of one function to create a new function. \n",
    "\n",
    "There is also much to be learned about iterators, yield, etc. Python is an active language and it is still evolving!"
   ]
  },
  {
   "cell_type": "code",
   "execution_count": null,
   "metadata": {},
   "outputs": [],
   "source": []
  }
 ],
 "metadata": {
  "anaconda-cloud": {},
  "kernelspec": {
   "display_name": "Python 3",
   "language": "python",
   "name": "python3"
  },
  "language_info": {
   "codemirror_mode": {
    "name": "ipython",
    "version": 3
   },
   "file_extension": ".py",
   "mimetype": "text/x-python",
   "name": "python",
   "nbconvert_exporter": "python",
   "pygments_lexer": "ipython3",
   "version": "3.6.5"
  }
 },
 "nbformat": 4,
 "nbformat_minor": 1
}
